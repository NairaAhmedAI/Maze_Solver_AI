{
  "nbformat": 4,
  "nbformat_minor": 0,
  "metadata": {
    "colab": {
      "provenance": [],
      "include_colab_link": true
    },
    "kernelspec": {
      "name": "python3",
      "display_name": "Python 3"
    },
    "language_info": {
      "name": "python"
    }
  },
  "cells": [
    {
      "cell_type": "markdown",
      "metadata": {
        "id": "view-in-github",
        "colab_type": "text"
      },
      "source": [
        "<a href=\"https://colab.research.google.com/github/NairaAhmedAI/Maze_Solver_AI/blob/main/Maze_Solver_AI.ipynb\" target=\"_parent\"><img src=\"https://colab.research.google.com/assets/colab-badge.svg\" alt=\"Open In Colab\"/></a>"
      ]
    },
    {
      "cell_type": "markdown",
      "source": [
        "#bidirectional_search"
      ],
      "metadata": {
        "id": "DOOXNDcHoJCX"
      }
    },
    {
      "cell_type": "code",
      "source": [
        "from collections import deque\n",
        "\n",
        "def bidirectional_search(graph, start, goal):\n",
        "    if start == goal:\n",
        "        return [start]\n",
        "\n",
        "    forward_queue = deque([start])\n",
        "    backward_queue = deque([goal])\n",
        "    forward_visited = {start: None}\n",
        "    backward_visited = {goal: None}\n",
        "\n",
        "    while forward_queue and backward_queue:\n",
        "        if forward_queue:\n",
        "            current_forward = forward_queue.popleft()\n",
        "            for neighbor in graph.get(current_forward, []):\n",
        "                if neighbor not in forward_visited:\n",
        "                    forward_visited[neighbor] = current_forward\n",
        "                    forward_queue.append(neighbor)\n",
        "                    if neighbor in backward_visited:\n",
        "                        return construct_path(forward_visited, backward_visited, neighbor)\n",
        "\n",
        "        if backward_queue:\n",
        "            current_backward = backward_queue.popleft()\n",
        "            for neighbor in graph.get(current_backward, []): # This line allows the backward search from 'M'\n",
        "                if neighbor not in backward_visited:\n",
        "                    backward_visited[neighbor] = current_backward\n",
        "                    backward_queue.append(neighbor)\n",
        "                    if neighbor in forward_visited:\n",
        "                        return construct_path(forward_visited, backward_visited, neighbor)\n",
        "    return None  # No path found\n",
        "\n",
        "def construct_path(forward_visited, backward_visited, meeting_point):\n",
        "    path = []\n",
        "    current = meeting_point\n",
        "    while current is not None:\n",
        "        path.append(current)\n",
        "        current = forward_visited[current]\n",
        "    path.reverse()\n",
        "    current = backward_visited[meeting_point]\n",
        "    while current is not None:\n",
        "        path.append(current)\n",
        "        current = backward_visited[current]\n",
        "    return path\n",
        "\n",
        "# Example usage\n",
        "if __name__ == \"__main__\":\n",
        "    graph = {\n",
        "        'A': ['B'],\n",
        "        'B': ['A', 'C', 'H'], # Added 'A' as a neighbor of 'B' to allow backward search\n",
        "        'C': ['B', 'D', 'G'], # Added 'B' as a neighbor of 'C'\n",
        "        'H': ['B', 'I', 'J'], # Added 'B' as a neighbor of 'H'\n",
        "        'D': ['C', 'F', 'E'], # Added 'C' as a neighbor of 'D'\n",
        "        'J': ['H', 'M', 'L'], # Added 'H' as a neighbor of 'J'\n",
        "        'M': ['J'], # Added this line to allow backward search to continue\n",
        "        'G': ['C'], # Adding neighbors for completeness\n",
        "        'I': ['H'],\n",
        "        'F': ['D'],\n",
        "        'E': ['D'],\n",
        "        'L': ['J']\n",
        "    }\n",
        "\n",
        "    start_node = 'A'\n",
        "    goal_node = 'M'\n",
        "    path = bidirectional_search(graph, start_node, goal_node)\n",
        "    print(\"Path from {} to {}: {}\".format(start_node, goal_node, path))"
      ],
      "metadata": {
        "colab": {
          "base_uri": "https://localhost:8080/"
        },
        "id": "6SRS1Pfh9Bor",
        "outputId": "9905e23b-2251-49aa-c0b3-5bf269967d66"
      },
      "execution_count": null,
      "outputs": [
        {
          "output_type": "stream",
          "name": "stdout",
          "text": [
            "Path from A to M: ['A', 'B', 'H', 'J', 'M']\n"
          ]
        }
      ]
    },
    {
      "cell_type": "markdown",
      "source": [
        "# Mix-Min Algorithm"
      ],
      "metadata": {
        "id": "QDUoEUC2n5oh"
      }
    },
    {
      "cell_type": "code",
      "source": [
        "# Mix-Min Algorithm on Tree Structure\n",
        "\n",
        "class Node:\n",
        "    def __init__(self, value=None):\n",
        "        self.value = value if value is not None else 0  # Default to 0 if value is None\n",
        "        self.children = []\n",
        "\n",
        "    def add_child(self, child):\n",
        "        self.children.append(child)\n",
        "\n",
        "# Build Tree (from image)\n",
        "A = Node()\n",
        "B = Node()\n",
        "C = Node()\n",
        "D = Node(4)\n",
        "E = Node()\n",
        "F = Node(4)\n",
        "G = Node(3)\n",
        "H = Node()\n",
        "I = Node(2)\n",
        "J = Node()\n",
        "L = Node(1)\n",
        "M = Node(0)\n",
        "\n",
        "# Connect nodes (manually as per the structure)\n",
        "A.children = [B]\n",
        "B.children = [C, H]\n",
        "C.children = [D, G]\n",
        "D.children = [F, E]\n",
        "H.children = [I, J]\n",
        "J.children = [M, L]\n",
        "\n",
        "def mix_min(node, depth, maximizing_player):\n",
        "    if depth == 0 or not node.children:\n",
        "        return node.value if node.value is not None else 0\n",
        "\n",
        "    if maximizing_player:\n",
        "        max_value = float('-inf')\n",
        "        for child in node.children:\n",
        "            eval = mix_min(child, depth - 1, False)\n",
        "            max_value = max(max_value, eval)\n",
        "        node.value = max_value\n",
        "        return max_value\n",
        "    else:\n",
        "        min_value = float('inf')\n",
        "        for child in node.children:\n",
        "            eval = mix_min(child, depth - 1, True)\n",
        "            min_value = min(min_value, eval)\n",
        "        node.value = min_value if min_value != float('inf') else 0\n",
        "        return min_value\n",
        "result = mix_min(A, 4, True)\n",
        "print(\"Optimal Value (Mix-Min):\", result)"
      ],
      "metadata": {
        "colab": {
          "base_uri": "https://localhost:8080/"
        },
        "id": "zaWs5SowkBnP",
        "outputId": "b48d828b-8714-49fc-ee08-cfa1219c4d5c"
      },
      "execution_count": null,
      "outputs": [
        {
          "output_type": "stream",
          "name": "stdout",
          "text": [
            "Optimal Value (Mix-Min): 2\n"
          ]
        }
      ]
    },
    {
      "cell_type": "markdown",
      "source": [
        "# Alpha-Beta Pruning\n",
        ""
      ],
      "metadata": {
        "id": "pUT11AH2n0c6"
      }
    },
    {
      "cell_type": "code",
      "source": [
        "# Alpha-Beta Pruning\n",
        "\n",
        "class Node:\n",
        "    def __init__(self, value=None):\n",
        "        self.value = value\n",
        "        self.children = []\n",
        "\n",
        "    def add_child(self, child):\n",
        "        self.children.append(child)\n",
        "\n",
        "# Build Tree\n",
        "A = Node()\n",
        "B = Node()\n",
        "C = Node()\n",
        "D = Node(4)\n",
        "E = Node()\n",
        "F = Node(4)\n",
        "G = Node(3)\n",
        "H = Node()\n",
        "I = Node(2)\n",
        "J = Node()\n",
        "L = Node(1)\n",
        "M = Node(0)\n",
        "\n",
        "# Connect nodes (manually as per the structure)\n",
        "A.children = [B]\n",
        "B.children = [C, H]\n",
        "C.children = [D, G]\n",
        "D.children = [F, E]\n",
        "H.children = [I, J]\n",
        "J.children = [M, L]\n",
        "\n",
        "# Alpha-Beta Pruning Function\n",
        "\n",
        "def alphabeta(node, depth, alpha, beta, maximizing_player):\n",
        "    if node.value is None:\n",
        "        node.value = 0\n",
        "\n",
        "    if depth == 0 or not node.children:\n",
        "        return node.value\n",
        "\n",
        "    if maximizing_player:\n",
        "        max_eval = float('-inf')\n",
        "        for child in node.children:\n",
        "            eval = alphabeta(child, depth - 1, alpha, beta, False)\n",
        "            max_eval = max(max_eval, eval)\n",
        "            alpha = max(alpha, eval)\n",
        "            if beta <= alpha:\n",
        "                break  # Beta cut-off\n",
        "        node.value = max_eval\n",
        "        return max_eval\n",
        "    else:\n",
        "        min_eval = float('inf')\n",
        "        for child in node.children:\n",
        "            eval = alphabeta(child, depth - 1, alpha, beta, True)\n",
        "            min_eval = min(min_eval, eval)\n",
        "            beta = min(beta, eval)\n",
        "            if beta <= alpha:\n",
        "                break  # Alpha cut-off\n",
        "        node.value = min_eval\n",
        "        return min_eval\n",
        "\n",
        "# Run Alpha-Beta on Tree\n",
        "result = alphabeta(A, 4, float('-inf'), float('inf'), True)\n",
        "print(\"Optimal Value:\", result)\n"
      ],
      "metadata": {
        "id": "FrgyQRtA9u4u",
        "colab": {
          "base_uri": "https://localhost:8080/"
        },
        "outputId": "7cebc8b7-69ba-467c-b080-308470c404dd"
      },
      "execution_count": null,
      "outputs": [
        {
          "output_type": "stream",
          "name": "stdout",
          "text": [
            "Optimal Value: 2\n"
          ]
        }
      ]
    },
    {
      "cell_type": "markdown",
      "source": [
        "#Hil_climbing"
      ],
      "metadata": {
        "id": "vHdEFgbknpKG"
      }
    },
    {
      "cell_type": "code",
      "execution_count": null,
      "metadata": {
        "colab": {
          "base_uri": "https://localhost:8080/"
        },
        "id": "lKcHkABdCq5c",
        "outputId": "14d0b3c0-322a-4113-83c5-4013419de35d"
      },
      "outputs": [
        {
          "output_type": "stream",
          "name": "stdout",
          "text": [
            "Path to goal M: A -> B -> H -> I\n"
          ]
        }
      ],
      "source": [
        "class Node:\n",
        "    def __init__(self, name, cost):\n",
        "        self.name = name\n",
        "        self.cost = cost\n",
        "        self.children = []\n",
        "\n",
        "    def add_child(self, child_node):\n",
        "        self.children.append(child_node)\n",
        "def simple_hill_climbing(start_node, goal_node):\n",
        "    current_node = start_node\n",
        "    path = [current_node.name]\n",
        "    while current_node != goal_node:\n",
        "     next_node = None\n",
        "     for child in current_node.children:\n",
        "\n",
        "            if child.cost < current_node.cost:\n",
        "\n",
        "                next_node = child\n",
        "                break\n",
        "     if next_node:\n",
        "            current_node = next_node\n",
        "            path.append(current_node.name)\n",
        "     else:\n",
        "            break\n",
        "    return path\n",
        "A = Node(\"A\",6)\n",
        "B = Node(\"B\",5)\n",
        "C= Node (\"C\",5)\n",
        "D= Node (\"D\",5)\n",
        "E= Node (\"E\",4)\n",
        "F= Node (\"F\",4)\n",
        "G= Node (\"G\",3)\n",
        "H= Node (\"H\",3)\n",
        "I= Node (\"I\",2)\n",
        "J= Node (\"J\",2)\n",
        "L= Node (\"L\",1)\n",
        "M= Node (\"M\",0)\n",
        "\n",
        "A.add_child(B)\n",
        "B.add_child(C)\n",
        "B.add_child(H)\n",
        "C.add_child(D)\n",
        "C.add_child(G)\n",
        "H.add_child(I)\n",
        "H.add_child(J)\n",
        "D.add_child(F)\n",
        "D.add_child(E)\n",
        "J.add_child(L)\n",
        "J.add_child(M)\n",
        "path = simple_hill_climbing(A, M)\n",
        "print(\"Path to goal M:\", \" -> \".join(path))\n",
        "\n",
        "\n"
      ]
    },
    {
      "cell_type": "markdown",
      "source": [
        " # ***Iterative*** Deepening Search (IDS)"
      ],
      "metadata": {
        "id": "pPsLDFbTokx5"
      }
    },
    {
      "cell_type": "code",
      "source": [
        "def iddfs(graph, start, goal):\n",
        "    def dls(node, depth, path, visited_nodes):\n",
        "        visited_nodes.append(node)  # Add current node to visited nodes\n",
        "\n",
        "        if depth == 0 and node == goal:\n",
        "            return True\n",
        "        if depth < 0:\n",
        "            return False\n",
        "\n",
        "        path.append(node)\n",
        "        for neighbor in graph.get(node, []):\n",
        "            if neighbor not in path:  # Prevent cycles\n",
        "                if dls(neighbor, depth - 1, path, visited_nodes):\n",
        "                    return True\n",
        "        path.pop() #Removes the current node from the path list (backtracking) when no valid path is found through it.\n",
        "        return False\n",
        "\n",
        "    for depth in range(len(graph)):\n",
        "        path = []\n",
        "        visited_nodes = []  # Store nodes visited at this depth\n",
        "        if dls(start, depth, path, visited_nodes):\n",
        "            print(f\"{depth} -> {'-'.join(visited_nodes)}\")  # Print visited nodes\n",
        "            return path\n",
        "    return None\n",
        "\n",
        "# Your graph data\n",
        "graph = {\n",
        "    'A': ['B'],\n",
        "    'B': ['A', 'C', 'H'],\n",
        "    'C': ['B', 'D', 'G'],\n",
        "    'H': ['B', 'I', 'J'],\n",
        "    'D': ['C', 'F', 'E'],\n",
        "    'J': ['H', 'M', 'L'],\n",
        "    'M': ['J'],\n",
        "    'G': ['C'],\n",
        "    'I': ['H'],\n",
        "    'F': ['D'],\n",
        "    'E': ['D'],\n",
        "    'L': ['J']\n",
        "}\n",
        "\n",
        "# Example usage\n",
        "start_node = 'A'\n",
        "goal_node = 'M'\n",
        "path = iddfs(graph, start_node, goal_node)\n",
        "#print(f\"Path from {start_node} to {goal_node}: {path}\")  # You can still print the path if needed"
      ],
      "metadata": {
        "colab": {
          "base_uri": "https://localhost:8080/"
        },
        "id": "9PLi-I4RBITl",
        "outputId": "15d5c5b1-f6a6-46d8-e9ad-68c4c3e9e8a2"
      },
      "execution_count": null,
      "outputs": [
        {
          "output_type": "stream",
          "name": "stdout",
          "text": [
            "4 -> A-B-C-D-F-E-G-H-I-J-M\n"
          ]
        }
      ]
    },
    {
      "cell_type": "markdown",
      "source": [
        "#Best_first_search"
      ],
      "metadata": {
        "id": "ts7VoKQQouFT"
      }
    },
    {
      "cell_type": "code",
      "source": [
        "from queue import PriorityQueue\n",
        "\n",
        "graph = {\n",
        "    'A': [('B', 1)],\n",
        "    'B': [('A', 1), ('C', 3), ('H', 2)],\n",
        "    'C': [('B', 3), ('D', 4), ('G', 5)],\n",
        "    'H': [('B', 2), ('I', 6), ('J', 7)],\n",
        "    'D': [('C', 4), ('F', 8), ('E', 9)],\n",
        "    'J': [('H', 7), ('M', 10), ('L', 11)],\n",
        "    'M': [('J', 10)],\n",
        "    'G': [('C', 5)],\n",
        "    'I': [('H', 6)],\n",
        "    'F': [('D', 8)],\n",
        "    'E': [('D', 9)],\n",
        "    'L': [('J', 11)]\n",
        "}\n",
        "\n",
        "heuristic_values = {\n",
        "    'A': 6,\n",
        "    'B': 5,\n",
        "    'C': 5,\n",
        "    'D': 5,\n",
        "    'E': 4,\n",
        "    'F': 4,\n",
        "    'G': 3,\n",
        "    'H': 3,\n",
        "    'I': 2,\n",
        "    'J': 2,\n",
        "    'L': 1,\n",
        "    'M': 0\n",
        "}\n",
        "\n",
        "def best_first_search(actual_Src, target, n, heuristic_values):\n",
        "    visited = {node: False for node in graph}\n",
        "    pq = PriorityQueue()\n",
        "    pq.put((heuristic_values[actual_Src], actual_Src))\n",
        "    visited[actual_Src] = True\n",
        "\n",
        "    while not pq.empty():\n",
        "        u = pq.get()[1]\n",
        "        print(u, end=\" \")\n",
        "        if u == target:\n",
        "            break\n",
        "\n",
        "        for v, c in graph[u]:\n",
        "            if not visited[v]:\n",
        "                visited[v] = True\n",
        "                pq.put((heuristic_values[v], v))\n",
        "\n",
        "# Example usage\n",
        "source = 'A'\n",
        "target = 'M'\n",
        "best_first_search(source, target, len(graph), heuristic_values)"
      ],
      "metadata": {
        "colab": {
          "base_uri": "https://localhost:8080/"
        },
        "id": "rfx25Fi9QqpQ",
        "outputId": "285355b2-e6e8-4e04-daf6-b569a558fc42"
      },
      "execution_count": null,
      "outputs": [
        {
          "output_type": "stream",
          "name": "stdout",
          "text": [
            "A B H I J M "
          ]
        }
      ]
    },
    {
      "cell_type": "markdown",
      "source": [
        "#Depth_limited_search"
      ],
      "metadata": {
        "id": "lPIVTaEPo0_d"
      }
    },
    {
      "cell_type": "code",
      "source": [
        "class Node:\n",
        "    def __init__(self, state, parent=None, depth=0):\n",
        "        self.state = state\n",
        "        self.parent = parent\n",
        "        self.depth = depth\n",
        "\n",
        "def depth_limited_search(graph, start, goal, limit):\n",
        "    def recursive_dls(node, limit):\n",
        "        if node.state == goal:\n",
        "            return node\n",
        "        elif limit == 0:\n",
        "            return None  # Depth limit reached\n",
        "        else:\n",
        "            for neighbor in graph.get(node.state, []):\n",
        "                child = Node(neighbor, node, node.depth + 1)\n",
        "                result = recursive_dls(child, limit - 1)\n",
        "                if result:\n",
        "                    return result\n",
        "            return None\n",
        "\n",
        "    root = Node(start)\n",
        "    return recursive_dls(root, limit)\n",
        "\n",
        "def get_path(node):\n",
        "    path = []\n",
        "    while node:\n",
        "        path.append(node.state)\n",
        "        node = node.parent\n",
        "    return path[::-1]  # Reverse the path\n",
        "\n",
        "# Example usage\n",
        "graph = {\n",
        "    'A': ['B'],\n",
        "    'B': ['A', 'C', 'H'],\n",
        "    'C': ['B', 'D', 'G'],\n",
        "    'H': ['B', 'I', 'J'],\n",
        "    'D': ['C', 'F', 'E'],\n",
        "    'J': ['H', 'M', 'L'],\n",
        "    'M': ['J'],\n",
        "    'G': ['C'],\n",
        "    'I': ['H'],\n",
        "    'F': ['D'],\n",
        "    'E': ['D'],\n",
        "    'L': ['J']\n",
        "}\n",
        "\n",
        "start_node = 'A'\n",
        "goal_node = 'M'\n",
        "depth_limit = 4  # Adjust as needed\n",
        "\n",
        "result = depth_limited_search(graph, start_node, goal_node, depth_limit)\n",
        "\n",
        "if result:\n",
        "    path = get_path(result)\n",
        "    print(\"Path:\", path)  # Output: ['A', 'B', 'H', 'J', 'M']\n",
        "else:\n",
        "    print(\"Goal not found within depth limit.\")"
      ],
      "metadata": {
        "colab": {
          "base_uri": "https://localhost:8080/"
        },
        "id": "W-HxMwmySov8",
        "outputId": "2408e5af-3fb6-4876-a902-654891fd6e85"
      },
      "execution_count": null,
      "outputs": [
        {
          "output_type": "stream",
          "name": "stdout",
          "text": [
            "Path: ['A', 'B', 'H', 'J', 'M']\n"
          ]
        }
      ]
    }
  ]
}